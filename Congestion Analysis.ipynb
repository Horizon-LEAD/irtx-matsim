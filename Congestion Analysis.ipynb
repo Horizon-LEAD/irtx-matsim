{
 "cells": [
  {
   "cell_type": "code",
   "execution_count": 77,
   "id": "8ec40962",
   "metadata": {},
   "outputs": [],
   "source": [
    "import numpy as np\n",
    "import pandas as pd\n",
    "import os, json"
   ]
  },
  {
   "cell_type": "code",
   "execution_count": 78,
   "id": "0e7c6045",
   "metadata": {
    "tags": [
     "parameters"
    ]
   },
   "outputs": [],
   "source": [
    "simulation_output_path = \"input\"\n",
    "kpi_path = \"output/kpi.json\"\n",
    "cutoff_min = 60"
   ]
  },
  {
   "cell_type": "code",
   "execution_count": 79,
   "id": "a00333c3",
   "metadata": {},
   "outputs": [],
   "source": [
    "assert os.path.exists(\"{}/trips.csv\".format(simulation_output_path))\n",
    "assert os.path.exists(\"{}/congestion.csv\".format(simulation_output_path))"
   ]
  },
  {
   "cell_type": "markdown",
   "id": "14ff9d27",
   "metadata": {},
   "source": [
    "## Read information"
   ]
  },
  {
   "cell_type": "code",
   "execution_count": 80,
   "id": "b3439df1",
   "metadata": {},
   "outputs": [],
   "source": [
    "df_trips = pd.read_csv(\"{}/trips.csv\".format(simulation_output_path), sep = \";\")\n",
    "df_congestion = pd.read_csv(\"{}/congestion.csv\".format(simulation_output_path), sep = \";\")"
   ]
  },
  {
   "cell_type": "markdown",
   "id": "ae3bd4d2",
   "metadata": {},
   "source": [
    "## Perform analysis"
   ]
  },
  {
   "cell_type": "code",
   "execution_count": 81,
   "id": "c0bcf3a3",
   "metadata": {},
   "outputs": [],
   "source": [
    "drivers = len(df_trips[df_trips[\"mode\"] == \"car\"][\"person_id\"].unique())"
   ]
  },
  {
   "cell_type": "code",
   "execution_count": 82,
   "id": "4d9b2880",
   "metadata": {},
   "outputs": [],
   "source": [
    "delay_min = np.maximum(df[\"simulatedTravelTime\"].values - df[\"uncongestedTravelTime\"].values, 0.0) / 60.0\n",
    "delay_min = delay_min[delay_min <= cutoff_min]\n",
    "delay_min = np.sum(delay_min)"
   ]
  },
  {
   "cell_type": "markdown",
   "id": "375f9c46",
   "metadata": {},
   "source": [
    "## Output"
   ]
  },
  {
   "cell_type": "code",
   "execution_count": 83,
   "id": "871a584c",
   "metadata": {},
   "outputs": [],
   "source": [
    "with open(kpi_path, \"w+\") as f:\n",
    "    json.dump({\n",
    "        \"total_delay_min\": delay_min,\n",
    "        \"delay_per_driver_min\": delay_min / drivers\n",
    "    }, f, indent = 2)"
   ]
  }
 ],
 "metadata": {
  "celltoolbar": "Tags",
  "kernelspec": {
   "display_name": "Python 3 (ipykernel)",
   "language": "python",
   "name": "python3"
  },
  "language_info": {
   "codemirror_mode": {
    "name": "ipython",
    "version": 3
   },
   "file_extension": ".py",
   "mimetype": "text/x-python",
   "name": "python",
   "nbconvert_exporter": "python",
   "pygments_lexer": "ipython3",
   "version": "3.8.12"
  }
 },
 "nbformat": 4,
 "nbformat_minor": 5
}
